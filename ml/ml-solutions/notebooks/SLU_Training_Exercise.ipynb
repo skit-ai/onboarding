{
 "cells": [
  {
   "cell_type": "markdown",
   "id": "02f968b5",
   "metadata": {},
   "source": [
    "# Exercise: SLU Model Training\n",
    "\n",
    "Hey! If you are reading this we hope you have completed your SLU Model Training Onboarding. Now its time to test the service you have created. Run your service using `poetry run slu serve` and give service URL and the csv path. We'll test on two test CSVs, the one you downloaded from S3 bucket mentioned in SLU Model Training doc and other that you have created during your data onboarding. "
   ]
  },
  {
   "cell_type": "code",
   "execution_count": null,
   "id": "b7d2c0d3",
   "metadata": {},
   "outputs": [],
   "source": [
    "from utils import test_slu_model"
   ]
  },
  {
   "cell_type": "code",
   "execution_count": null,
   "id": "591293bc",
   "metadata": {},
   "outputs": [],
   "source": [
    "test_slu_model(test_csv = \"\", service_url = \"\")"
   ]
  }
 ],
 "metadata": {
  "kernelspec": {
   "display_name": "Python 3",
   "language": "python",
   "name": "python3"
  },
  "language_info": {
   "codemirror_mode": {
    "name": "ipython",
    "version": 3
   },
   "file_extension": ".py",
   "mimetype": "text/x-python",
   "name": "python",
   "nbconvert_exporter": "python",
   "pygments_lexer": "ipython3",
   "version": "3.8.2"
  }
 },
 "nbformat": 4,
 "nbformat_minor": 5
}
