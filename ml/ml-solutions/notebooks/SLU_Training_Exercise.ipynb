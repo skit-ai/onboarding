{
    "cells": [
     {
      "cell_type": "markdown",
      "id": "c209e3e7",
      "metadata": {},
      "source": [
       "# Exercise: SLU Model Training\n",
       "\n",
       "Hey! If you are reading this we hope you have converted your SLU Model Training Onboarding. Now its time to test the service you have created. Run your service using `poetry run slu serve` and give service URL and the csv path. We'll test on two CSVs, the one you downloaded from SLU Model Training doc and other that you have created during your data onboarding. "
      ]
     },
     {
      "cell_type": "code",
      "execution_count": null,
      "id": "bf45c709",
      "metadata": {},
      "outputs": [],
      "source": [
       "test_slu_model(test_csv = \"csv_path\", service_url = \"service_url\")"
      ]
     },
     {
      "cell_type": "code",
      "execution_count": null,
      "id": "eff1f15e",
      "metadata": {},
      "outputs": [],
      "source": []
     }
    ],
    "metadata": {
     "kernelspec": {
      "display_name": "Python 3",
      "language": "python",
      "name": "python3"
     },
     "language_info": {
      "codemirror_mode": {
       "name": "ipython",
       "version": 3
      },
      "file_extension": ".py",
      "mimetype": "text/x-python",
      "name": "python",
      "nbconvert_exporter": "python",
      "pygments_lexer": "ipython3",
      "version": "3.8.2"
     }
    },
    "nbformat": 4,
    "nbformat_minor": 5
   }
   