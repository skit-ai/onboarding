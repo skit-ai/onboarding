{
 "cells": [
  {
   "cell_type": "markdown",
   "metadata": {},
   "source": [
    "# Exercise: Duckling Entities\n",
    "\n",
    "This exercise is to test if your service is extracting the duckling entities correctly. Make sure your plugin is correctly configured for the following dimensions.\n",
    "\n",
    "- Date\n",
    "- Datetime\n",
    "- Number"
   ]
  },
  {
   "cell_type": "code",
   "execution_count": null,
   "metadata": {},
   "outputs": [],
   "source": [
    "from utils import test_duckling_entities\n",
    "test_duckling_entities(test_json = \"\", service_url = \"\")"
   ]
  }
 ],
 "metadata": {
  "language_info": {
   "name": "python"
  },
  "orig_nbformat": 4
 },
 "nbformat": 4,
 "nbformat_minor": 2
}
